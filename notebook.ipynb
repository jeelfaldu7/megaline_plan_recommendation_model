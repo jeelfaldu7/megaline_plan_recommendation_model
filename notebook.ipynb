{
 "cells": [
  {
   "cell_type": "markdown",
   "metadata": {},
   "source": [
    "# Mobile Carrier Megaline Subscribers Behavior"
   ]
  },
  {
   "cell_type": "markdown",
   "metadata": {},
   "source": [
    "## Introduction"
   ]
  },
  {
   "cell_type": "markdown",
   "metadata": {},
   "source": [
    "The project is based on the behavior data of Mobile carrier Megaline subscribers to develop a model that would analyze subscribers' behavior and recommend one of Megaline's newer plans: Smart or Ultra. The model would be based on binary classification of newer plans so that it can pick the right plan based on subscribers' behavior. Along with this, the model developed should have the highest possible accuracy with the threshold 0.75."
   ]
  },
  {
   "cell_type": "markdown",
   "metadata": {},
   "source": [
    "## Data Overview"
   ]
  },
  {
   "cell_type": "code",
   "execution_count": 1,
   "metadata": {},
   "outputs": [],
   "source": [
    "# Import necessary libraries\n",
    "import pandas as pd\n",
    "from matplotlib import pyplot as plt\n",
    "import seaborn as sns\n",
    "import numpy as np\n",
    "from scipy import stats as st\n",
    "\n",
    "from sklearn.ensemble import RandomForestClassifier\n",
    "from sklearn.model_selection import train_test_split\n",
    "from sklearn.metrics import mean_squared_error"
   ]
  },
  {
   "cell_type": "code",
   "execution_count": 2,
   "metadata": {},
   "outputs": [
    {
     "data": {
      "text/html": [
       "<div>\n",
       "<style scoped>\n",
       "    .dataframe tbody tr th:only-of-type {\n",
       "        vertical-align: middle;\n",
       "    }\n",
       "\n",
       "    .dataframe tbody tr th {\n",
       "        vertical-align: top;\n",
       "    }\n",
       "\n",
       "    .dataframe thead th {\n",
       "        text-align: right;\n",
       "    }\n",
       "</style>\n",
       "<table border=\"1\" class=\"dataframe\">\n",
       "  <thead>\n",
       "    <tr style=\"text-align: right;\">\n",
       "      <th></th>\n",
       "      <th>calls</th>\n",
       "      <th>minutes</th>\n",
       "      <th>messages</th>\n",
       "      <th>mb_used</th>\n",
       "      <th>is_ultra</th>\n",
       "    </tr>\n",
       "  </thead>\n",
       "  <tbody>\n",
       "    <tr>\n",
       "      <th>0</th>\n",
       "      <td>40.0</td>\n",
       "      <td>311.90</td>\n",
       "      <td>83.0</td>\n",
       "      <td>19915.42</td>\n",
       "      <td>0</td>\n",
       "    </tr>\n",
       "    <tr>\n",
       "      <th>1</th>\n",
       "      <td>85.0</td>\n",
       "      <td>516.75</td>\n",
       "      <td>56.0</td>\n",
       "      <td>22696.96</td>\n",
       "      <td>0</td>\n",
       "    </tr>\n",
       "    <tr>\n",
       "      <th>2</th>\n",
       "      <td>77.0</td>\n",
       "      <td>467.66</td>\n",
       "      <td>86.0</td>\n",
       "      <td>21060.45</td>\n",
       "      <td>0</td>\n",
       "    </tr>\n",
       "    <tr>\n",
       "      <th>3</th>\n",
       "      <td>106.0</td>\n",
       "      <td>745.53</td>\n",
       "      <td>81.0</td>\n",
       "      <td>8437.39</td>\n",
       "      <td>1</td>\n",
       "    </tr>\n",
       "    <tr>\n",
       "      <th>4</th>\n",
       "      <td>66.0</td>\n",
       "      <td>418.74</td>\n",
       "      <td>1.0</td>\n",
       "      <td>14502.75</td>\n",
       "      <td>0</td>\n",
       "    </tr>\n",
       "  </tbody>\n",
       "</table>\n",
       "</div>"
      ],
      "text/plain": [
       "   calls  minutes  messages   mb_used  is_ultra\n",
       "0   40.0   311.90      83.0  19915.42         0\n",
       "1   85.0   516.75      56.0  22696.96         0\n",
       "2   77.0   467.66      86.0  21060.45         0\n",
       "3  106.0   745.53      81.0   8437.39         1\n",
       "4   66.0   418.74       1.0  14502.75         0"
      ]
     },
     "metadata": {},
     "output_type": "display_data"
    }
   ],
   "source": [
    "# Load the datasets\n",
    "users_behavior = pd.read_csv('users_behavior.csv')\n",
    "\n",
    "# Display the first few rows of the dataset\n",
    "display(users_behavior.head())"
   ]
  },
  {
   "cell_type": "markdown",
   "metadata": {},
   "source": [
    "### Data preprocessing"
   ]
  },
  {
   "cell_type": "code",
   "execution_count": 3,
   "metadata": {},
   "outputs": [
    {
     "data": {
      "text/plain": [
       "['calls', 'minutes', 'messages', 'mb_used', 'is_ultra']"
      ]
     },
     "metadata": {},
     "output_type": "display_data"
    }
   ],
   "source": [
    "# Dislay the column names of the dataset\n",
    "column_names = users_behavior.columns.tolist()\n",
    "display(column_names)"
   ]
  },
  {
   "cell_type": "code",
   "execution_count": 4,
   "metadata": {},
   "outputs": [
    {
     "name": "stdout",
     "output_type": "stream",
     "text": [
      "The DataFrame has 3214 rows and 5 columns\n"
     ]
    }
   ],
   "source": [
    "# Display the shape of the dataset\n",
    "n_rows, n_cols = users_behavior.shape\n",
    "print(f\"The DataFrame has {n_rows} rows and {n_cols} columns\")"
   ]
  },
  {
   "cell_type": "code",
   "execution_count": 5,
   "metadata": {},
   "outputs": [
    {
     "name": "stdout",
     "output_type": "stream",
     "text": [
      "<class 'pandas.core.frame.DataFrame'>\n",
      "RangeIndex: 3214 entries, 0 to 3213\n",
      "Data columns (total 5 columns):\n",
      " #   Column    Non-Null Count  Dtype  \n",
      "---  ------    --------------  -----  \n",
      " 0   calls     3214 non-null   float64\n",
      " 1   minutes   3214 non-null   float64\n",
      " 2   messages  3214 non-null   float64\n",
      " 3   mb_used   3214 non-null   float64\n",
      " 4   is_ultra  3214 non-null   int64  \n",
      "dtypes: float64(4), int64(1)\n",
      "memory usage: 125.7 KB\n"
     ]
    }
   ],
   "source": [
    "# Display the informative summary of the dataset\n",
    "users_behavior.info()"
   ]
  },
  {
   "cell_type": "code",
   "execution_count": 6,
   "metadata": {},
   "outputs": [
    {
     "data": {
      "text/html": [
       "<div>\n",
       "<style scoped>\n",
       "    .dataframe tbody tr th:only-of-type {\n",
       "        vertical-align: middle;\n",
       "    }\n",
       "\n",
       "    .dataframe tbody tr th {\n",
       "        vertical-align: top;\n",
       "    }\n",
       "\n",
       "    .dataframe thead th {\n",
       "        text-align: right;\n",
       "    }\n",
       "</style>\n",
       "<table border=\"1\" class=\"dataframe\">\n",
       "  <thead>\n",
       "    <tr style=\"text-align: right;\">\n",
       "      <th></th>\n",
       "      <th>calls</th>\n",
       "      <th>minutes</th>\n",
       "      <th>messages</th>\n",
       "      <th>mb_used</th>\n",
       "      <th>is_ultra</th>\n",
       "    </tr>\n",
       "  </thead>\n",
       "  <tbody>\n",
       "    <tr>\n",
       "      <th>count</th>\n",
       "      <td>3214.000000</td>\n",
       "      <td>3214.000000</td>\n",
       "      <td>3214.000000</td>\n",
       "      <td>3214.000000</td>\n",
       "      <td>3214.000000</td>\n",
       "    </tr>\n",
       "    <tr>\n",
       "      <th>mean</th>\n",
       "      <td>63.038892</td>\n",
       "      <td>438.208787</td>\n",
       "      <td>38.281269</td>\n",
       "      <td>17207.673836</td>\n",
       "      <td>0.306472</td>\n",
       "    </tr>\n",
       "    <tr>\n",
       "      <th>std</th>\n",
       "      <td>33.236368</td>\n",
       "      <td>234.569872</td>\n",
       "      <td>36.148326</td>\n",
       "      <td>7570.968246</td>\n",
       "      <td>0.461100</td>\n",
       "    </tr>\n",
       "    <tr>\n",
       "      <th>min</th>\n",
       "      <td>0.000000</td>\n",
       "      <td>0.000000</td>\n",
       "      <td>0.000000</td>\n",
       "      <td>0.000000</td>\n",
       "      <td>0.000000</td>\n",
       "    </tr>\n",
       "    <tr>\n",
       "      <th>25%</th>\n",
       "      <td>40.000000</td>\n",
       "      <td>274.575000</td>\n",
       "      <td>9.000000</td>\n",
       "      <td>12491.902500</td>\n",
       "      <td>0.000000</td>\n",
       "    </tr>\n",
       "    <tr>\n",
       "      <th>50%</th>\n",
       "      <td>62.000000</td>\n",
       "      <td>430.600000</td>\n",
       "      <td>30.000000</td>\n",
       "      <td>16943.235000</td>\n",
       "      <td>0.000000</td>\n",
       "    </tr>\n",
       "    <tr>\n",
       "      <th>75%</th>\n",
       "      <td>82.000000</td>\n",
       "      <td>571.927500</td>\n",
       "      <td>57.000000</td>\n",
       "      <td>21424.700000</td>\n",
       "      <td>1.000000</td>\n",
       "    </tr>\n",
       "    <tr>\n",
       "      <th>max</th>\n",
       "      <td>244.000000</td>\n",
       "      <td>1632.060000</td>\n",
       "      <td>224.000000</td>\n",
       "      <td>49745.730000</td>\n",
       "      <td>1.000000</td>\n",
       "    </tr>\n",
       "  </tbody>\n",
       "</table>\n",
       "</div>"
      ],
      "text/plain": [
       "             calls      minutes     messages       mb_used     is_ultra\n",
       "count  3214.000000  3214.000000  3214.000000   3214.000000  3214.000000\n",
       "mean     63.038892   438.208787    38.281269  17207.673836     0.306472\n",
       "std      33.236368   234.569872    36.148326   7570.968246     0.461100\n",
       "min       0.000000     0.000000     0.000000      0.000000     0.000000\n",
       "25%      40.000000   274.575000     9.000000  12491.902500     0.000000\n",
       "50%      62.000000   430.600000    30.000000  16943.235000     0.000000\n",
       "75%      82.000000   571.927500    57.000000  21424.700000     1.000000\n",
       "max     244.000000  1632.060000   224.000000  49745.730000     1.000000"
      ]
     },
     "execution_count": 6,
     "metadata": {},
     "output_type": "execute_result"
    }
   ],
   "source": [
    "# Display the descriptive statistics of the dataset\n",
    "users_behavior.describe()"
   ]
  },
  {
   "cell_type": "code",
   "execution_count": 7,
   "metadata": {},
   "outputs": [
    {
     "data": {
      "text/plain": [
       "'Number of duplicated data: 0'"
      ]
     },
     "metadata": {},
     "output_type": "display_data"
    }
   ],
   "source": [
    "# Display the number of duplicates in the dataset\n",
    "duplicated_users_behavior = users_behavior[users_behavior.duplicated()]\n",
    "display(f\"Number of duplicated data: {duplicated_users_behavior.shape[0]}\")"
   ]
  },
  {
   "cell_type": "code",
   "execution_count": 8,
   "metadata": {},
   "outputs": [
    {
     "data": {
      "text/plain": [
       "calls       0\n",
       "minutes     0\n",
       "messages    0\n",
       "mb_used     0\n",
       "is_ultra    0\n",
       "dtype: int64"
      ]
     },
     "metadata": {},
     "output_type": "display_data"
    }
   ],
   "source": [
    "# Display the number of missing values in the dataset\n",
    "display(users_behavior.isna().sum())"
   ]
  },
  {
   "cell_type": "code",
   "execution_count": 9,
   "metadata": {},
   "outputs": [
    {
     "data": {
      "text/plain": [
       "is_ultra\n",
       "0    2229\n",
       "1     985\n",
       "Name: count, dtype: int64"
      ]
     },
     "execution_count": 9,
     "metadata": {},
     "output_type": "execute_result"
    }
   ],
   "source": [
    "# Display the number of '0' and '1' values in the 'is_ultra' column\n",
    "users_behavior.value_counts('is_ultra')"
   ]
  },
  {
   "cell_type": "markdown",
   "metadata": {},
   "source": [
    "## Machine Learning"
   ]
  },
  {
   "cell_type": "markdown",
   "metadata": {},
   "source": [
    "I chose Random Forest for this project because it has highest accuracy among all the different classification models as it uses an ensembles of trees instead of just one. But, along with this, it is the slowest model as the more tree there are, the slower the model works."
   ]
  },
  {
   "cell_type": "code",
   "execution_count": 10,
   "metadata": {},
   "outputs": [
    {
     "name": "stdout",
     "output_type": "stream",
     "text": [
      "(3214, 4)\n",
      "(3214,)\n"
     ]
    }
   ],
   "source": [
    "# Define the feature and target variables\n",
    "features = users_behavior.drop(['is_ultra'], axis=1)\n",
    "print(features.shape)\n",
    "\n",
    "target = users_behavior['is_ultra']\n",
    "print(target.shape)"
   ]
  },
  {
   "cell_type": "markdown",
   "metadata": {},
   "source": [
    "### Splitting the source dataset: Training, Test and Validation Datasets"
   ]
  },
  {
   "cell_type": "markdown",
   "metadata": {},
   "source": [
    "As it asks to split the source data into a training set, a validation set, and a test set - I split the source data into three parts: training, validation, and test. The sizes of validation set and test set are equal. and so divided the source data into 3:1:1 ratio."
   ]
  },
  {
   "cell_type": "code",
   "execution_count": 11,
   "metadata": {},
   "outputs": [],
   "source": [
    "# Split the dataset into training and temporary sets\n",
    "users_behavior_train, users_behavior_temp = train_test_split(users_behavior, test_size=0.40, random_state=7)"
   ]
  },
  {
   "cell_type": "code",
   "execution_count": 12,
   "metadata": {},
   "outputs": [
    {
     "name": "stdout",
     "output_type": "stream",
     "text": [
      "(1928, 4)\n",
      "(1928,)\n"
     ]
    }
   ],
   "source": [
    "# Define the feature and target variables for the training set\n",
    "features_train = users_behavior_train.drop(['is_ultra'], axis=1)\n",
    "print(features_train.shape)\n",
    "\n",
    "target_train = users_behavior_train['is_ultra']\n",
    "print(target_train.shape)"
   ]
  },
  {
   "cell_type": "code",
   "execution_count": 13,
   "metadata": {},
   "outputs": [],
   "source": [
    "# Split the temporary dataset into validation and test sets\n",
    "users_behavior_valid, users_behavior_test = train_test_split(users_behavior_temp, test_size=0.50, random_state=7)"
   ]
  },
  {
   "cell_type": "code",
   "execution_count": 14,
   "metadata": {},
   "outputs": [
    {
     "name": "stdout",
     "output_type": "stream",
     "text": [
      "(643, 4)\n",
      "(643,)\n"
     ]
    }
   ],
   "source": [
    "# Define the feature and target variables for the validation set\n",
    "features_valid = users_behavior_valid.drop(['is_ultra'], axis=1)\n",
    "print(features_valid.shape)\n",
    "\n",
    "target_valid = users_behavior_valid['is_ultra']\n",
    "print(target_valid.shape)"
   ]
  },
  {
   "cell_type": "code",
   "execution_count": 15,
   "metadata": {},
   "outputs": [
    {
     "name": "stdout",
     "output_type": "stream",
     "text": [
      "(643, 4)\n",
      "(643,)\n"
     ]
    }
   ],
   "source": [
    "# Define the feature and target variables for the test set\n",
    "features_test = users_behavior_test.drop(['is_ultra'], axis=1)\n",
    "print(features_test.shape)\n",
    "\n",
    "target_test = users_behavior_test['is_ultra']\n",
    "print(target_test.shape)"
   ]
  },
  {
   "cell_type": "markdown",
   "metadata": {},
   "source": [
    "### Model Training"
   ]
  },
  {
   "cell_type": "code",
   "execution_count": 16,
   "metadata": {},
   "outputs": [
    {
     "name": "stdout",
     "output_type": "stream",
     "text": [
      "Accuracy of the best model on the validation set (n_estimators = 10): 0.7962674961119751\n"
     ]
    }
   ],
   "source": [
    "# Define the model and fit it to the training data \n",
    "best_score = 0\n",
    "best_est = 0\n",
    "model = None\n",
    "\n",
    "for est in range(1,11):\n",
    "    model = RandomForestClassifier(random_state=57, \n",
    "                                   n_estimators=est)\n",
    "    model.fit(features_train, target_train)\n",
    "    score = model.score(features_valid, target_valid)\n",
    "    if score > best_score:\n",
    "        best_score = score\n",
    "        best_est = est\n",
    "        best_model = model\n",
    "        \n",
    "print(\"Accuracy of the best model on the validation set (n_estimators = {}): {}\".format(best_est, best_score))"
   ]
  },
  {
   "cell_type": "markdown",
   "metadata": {},
   "source": [
    "Accuracy of the model with estimators range 1-11 is 0.7962674961119751 which is higher than the threshold for accuracy which is 0.75. So, it is a good model. But, we need a model with the highest accuracy, so need to investigate the quality of different models by changing hyperparameters."
   ]
  },
  {
   "cell_type": "markdown",
   "metadata": {},
   "source": [
    "####  Investigate the quality of different models by changing hyperparameters. "
   ]
  },
  {
   "cell_type": "code",
   "execution_count": 17,
   "metadata": {},
   "outputs": [
    {
     "name": "stdout",
     "output_type": "stream",
     "text": [
      "Accuracy of the best model on the validation set (n_estimators = 23): 0.807153965785381\n"
     ]
    }
   ],
   "source": [
    "# Define previous model with different hyperparameters and fit it to the training data\n",
    "best_score = 0\n",
    "best_est = 0\n",
    "best_model = None\n",
    "\n",
    "for est in range(1,51):\n",
    "    model = RandomForestClassifier(random_state=57,\n",
    "                                   n_estimators=est)\n",
    "    model.fit(features_train, target_train)\n",
    "    score = model.score(features_valid, target_valid)\n",
    "    if score > best_score:\n",
    "        best_score = score\n",
    "        best_est = est\n",
    "        best_model = model\n",
    "        \n",
    "print(\"Accuracy of the best model on the validation set (n_estimators = {}): {}\".format(best_est, best_score))"
   ]
  },
  {
   "cell_type": "markdown",
   "metadata": {},
   "source": [
    "Compare to the previous model, I think the model with estimators range 1-51 is 0.807153965785381 which is higher than threshold and the previous model and doesn't take that long to load, so I think that its better than the previous one.\n",
    "\n",
    "Along with this, I tried to increase the estimators range to 1-101, but there was no change to the accuracy and the model became really slower. Thus, I think the above model I got with good accuracy with good speed."
   ]
  },
  {
   "cell_type": "markdown",
   "metadata": {},
   "source": [
    "### Check the quality of the model using the test set"
   ]
  },
  {
   "cell_type": "code",
   "execution_count": 18,
   "metadata": {},
   "outputs": [
    {
     "name": "stdout",
     "output_type": "stream",
     "text": [
      "Best model's accuracy on the validation set (n_estimators = 23): 0.807153965785381\n",
      "Test set accuracy of the best model: 0.7807153965785381\n"
     ]
    }
   ],
   "source": [
    "# Checking the quality of the model on the test set\n",
    "test_accuracy = best_model.score(features_test, target_test) \n",
    "\n",
    "print(\"Best model's accuracy on the validation set (n_estimators = {}): {}\".format(best_est, best_score))\n",
    "\n",
    "print(\"Test set accuracy of the best model: {}\".format(test_accuracy))"
   ]
  },
  {
   "cell_type": "markdown",
   "metadata": {},
   "source": [
    "Test set accuracy of the best model is 0.7807153965785381 which is close to the accuracy of the validation set (0.807153965785381). This shows that the model is performing well and it generalizes effectively to new data. Slight drop in accuracy from validation set to test set is normal which suggests that the model is not overfitting."
   ]
  }
 ],
 "metadata": {
  "ExecuteTimeLog": [
   {
    "duration": 793,
    "start_time": "2024-11-29T18:04:25.590Z"
   },
   {
    "duration": 203,
    "start_time": "2024-11-29T18:04:38.726Z"
   },
   {
    "duration": 9,
    "start_time": "2024-11-29T18:04:56.528Z"
   },
   {
    "duration": 13,
    "start_time": "2024-11-29T18:05:06.802Z"
   },
   {
    "duration": 4,
    "start_time": "2024-11-29T18:05:46.932Z"
   },
   {
    "duration": 2,
    "start_time": "2024-11-29T18:05:56.822Z"
   },
   {
    "duration": 9,
    "start_time": "2024-11-29T18:06:14.377Z"
   },
   {
    "duration": 17,
    "start_time": "2024-11-29T18:06:21.501Z"
   },
   {
    "duration": 6,
    "start_time": "2024-11-29T18:06:27.523Z"
   },
   {
    "duration": 5,
    "start_time": "2024-11-29T18:06:34.561Z"
   },
   {
    "duration": 13,
    "start_time": "2024-11-29T18:06:41.395Z"
   },
   {
    "duration": 5,
    "start_time": "2024-11-29T18:06:49.593Z"
   },
   {
    "duration": 5,
    "start_time": "2024-11-29T18:07:34.301Z"
   },
   {
    "duration": 3,
    "start_time": "2024-11-29T18:07:41.681Z"
   },
   {
    "duration": 5,
    "start_time": "2024-11-29T18:08:38.653Z"
   },
   {
    "duration": 4,
    "start_time": "2024-11-29T18:08:45.551Z"
   },
   {
    "duration": 3,
    "start_time": "2024-11-29T18:08:52.621Z"
   },
   {
    "duration": 4,
    "start_time": "2024-11-29T18:08:59.054Z"
   },
   {
    "duration": 3,
    "start_time": "2024-11-29T18:09:05.754Z"
   },
   {
    "duration": 3,
    "start_time": "2024-11-29T18:09:11.649Z"
   },
   {
    "duration": 4,
    "start_time": "2024-11-29T18:09:18.803Z"
   },
   {
    "duration": 3,
    "start_time": "2024-11-29T18:09:26.213Z"
   },
   {
    "duration": 205,
    "start_time": "2024-11-29T18:09:35.072Z"
   },
   {
    "duration": 4038,
    "start_time": "2024-11-29T18:10:56.888Z"
   },
   {
    "duration": 8,
    "start_time": "2024-11-29T18:11:36.528Z"
   },
   {
    "duration": 5,
    "start_time": "2024-11-29T18:11:45.534Z"
   },
   {
    "duration": 787,
    "start_time": "2024-11-29T18:12:55.148Z"
   },
   {
    "duration": 195,
    "start_time": "2024-11-29T18:12:55.937Z"
   },
   {
    "duration": 13,
    "start_time": "2024-11-29T18:12:56.134Z"
   },
   {
    "duration": 12,
    "start_time": "2024-11-29T18:12:56.150Z"
   },
   {
    "duration": 3,
    "start_time": "2024-11-29T18:12:56.164Z"
   },
   {
    "duration": 3,
    "start_time": "2024-11-29T18:12:56.169Z"
   },
   {
    "duration": 8,
    "start_time": "2024-11-29T18:12:56.174Z"
   },
   {
    "duration": 17,
    "start_time": "2024-11-29T18:12:56.183Z"
   },
   {
    "duration": 5,
    "start_time": "2024-11-29T18:12:56.202Z"
   },
   {
    "duration": 4,
    "start_time": "2024-11-29T18:12:56.246Z"
   },
   {
    "duration": 6,
    "start_time": "2024-11-29T18:12:56.252Z"
   },
   {
    "duration": 5,
    "start_time": "2024-11-29T18:12:56.260Z"
   },
   {
    "duration": 3,
    "start_time": "2024-11-29T18:12:56.267Z"
   },
   {
    "duration": 3,
    "start_time": "2024-11-29T18:12:56.272Z"
   },
   {
    "duration": 5,
    "start_time": "2024-11-29T18:12:56.276Z"
   },
   {
    "duration": 4,
    "start_time": "2024-11-29T18:12:56.283Z"
   },
   {
    "duration": 3,
    "start_time": "2024-11-29T18:12:56.289Z"
   },
   {
    "duration": 52,
    "start_time": "2024-11-29T18:12:56.293Z"
   },
   {
    "duration": 4,
    "start_time": "2024-11-29T18:12:56.347Z"
   },
   {
    "duration": 3,
    "start_time": "2024-11-29T18:12:56.352Z"
   },
   {
    "duration": 4,
    "start_time": "2024-11-29T18:12:56.356Z"
   },
   {
    "duration": 2,
    "start_time": "2024-11-29T18:12:56.362Z"
   },
   {
    "duration": 234,
    "start_time": "2024-11-29T18:12:56.366Z"
   },
   {
    "duration": 4055,
    "start_time": "2024-11-29T18:12:56.601Z"
   },
   {
    "duration": 8,
    "start_time": "2024-11-29T18:13:00.658Z"
   }
  ],
  "kernelspec": {
   "display_name": "base",
   "language": "python",
   "name": "python3"
  },
  "language_info": {
   "codemirror_mode": {
    "name": "ipython",
    "version": 3
   },
   "file_extension": ".py",
   "mimetype": "text/x-python",
   "name": "python",
   "nbconvert_exporter": "python",
   "pygments_lexer": "ipython3",
   "version": "3.12.4"
  },
  "toc": {
   "base_numbering": 1,
   "nav_menu": {},
   "number_sections": true,
   "sideBar": true,
   "skip_h1_title": true,
   "title_cell": "Table of Contents",
   "title_sidebar": "Contents",
   "toc_cell": false,
   "toc_position": {},
   "toc_section_display": true,
   "toc_window_display": false
  }
 },
 "nbformat": 4,
 "nbformat_minor": 2
}
